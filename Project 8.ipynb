{
 "cells": [
  {
   "cell_type": "markdown",
   "metadata": {},
   "source": [
    "# Deskripsi Proyek\n",
    "Nasabah Bank Beta pergi meninggalkan perusahaan: sedikit demi sedikit, jumlah mereka berkurang setiap bulannya. Para pegawai bank menyadari bahwa akan lebih menghemat biaya jika perusahaan fokus untuk mempertahankan nasabah lama mereka yang setia daripada menarik nasabah baru.\n",
    "\n",
    "Pada kasus ini, tugas kita adalah untuk memprediksi apakah seorang nasabah akan segera meninggalkan bank atau tidak. Kamu memiliki data terkait perilaku para klien di masa lalu dan riwayat pemutusan kontrak mereka dengan bank.\n",
    "\n",
    "Buat sebuah model dengan skor F1 semaksimal mungkin. Untuk bisa dinyatakan lulus dari peninjauan, kamu memerlukan skor F1 minimal 0,59 untuk test dataset.\n",
    "\n",
    "Setelah itu, kamu akan membuat perubahan yang diperlukan pada pekerjaanmu dan mengirimkannya kembali untuk tinjauan kedua.\n",
    "\n",
    "Selain itu, ukur metrik AUC-ROC dan bandingkan metrik tersebut dengan skor F1."
   ]
  },
  {
   "cell_type": "markdown",
   "metadata": {},
   "source": [
    "# Pendahuluan\n",
    "Pada saat melakukan analisis, kita perlu merumuskan beberapa hipotesis yang perlu kita uji lebih terlebih dahulu. Tidak semua hipotesis yang kita kerjakan bisa langsung digunakan, kita harus bisa memilih hipotesis mana yang paling tepat untuk menyelesaikan masalah-masalah yang ada pada data yang kita miliki. Untuk membuat keputusan yang tepat, kita harus memahami apakah asumsi yang kita buat sudah tepat atau belum."
   ]
  },
  {
   "cell_type": "markdown",
   "metadata": {},
   "source": [
    "# Tujuan\n",
    "Memprediksi apakah seorang nasabah akan segera meninggalkan bank atau tidak. "
   ]
  },
  {
   "cell_type": "markdown",
   "metadata": {},
   "source": [
    "# Langkah Pengerjaan:\n",
    "\n",
    "    1. Unduh dan siapkan datanya. \n",
    "    Pastikan kamu menjelaskan logika yang kamu gunakan selama proses persiapan.\n",
    "    \n",
    "    2. Periksa keseimbangan setiap kelas (class balance). \n",
    "    Latih modelmu tanpa mempertimbangkan ketidakseimbangan (imbalance). Jelaskan temuanmu secara singkat.\n",
    "    \n",
    "    3. Tingkatkan kualitas model. \n",
    "    Pastikan bahwa kamu menggunakan setidaknya dua pendekatan untuk memperbaiki ketidakseimbangan kelas (imbalance class). Gunakan training dan validation set untuk menemukan model terbaik serta kumpulan parameter terbaik. Jelaskan temuanmu secara singkat. Gunakan training set untuk memilih parameter terbaik. Tingkatkan kualitas model dengan memperhatikan ketidakseimbangan kelas (imbalance class) Latih beberapa model yang berbeda dan temukan yang terbaik.\n",
    "    \n",
    "    4. Jalankan pengujian terakhir."
   ]
  },
  {
   "cell_type": "markdown",
   "metadata": {},
   "source": [
    "# Deskripsi Data\n",
    "Data yang kamu butuhkan bisa ditemukan di file /datasets/Churn.csv. Unduh dataset.\n",
    "\n",
    "**Fitur-fitur:**\n",
    "- RowNumber — indeks string data\n",
    "- CustomerId — ID pelanggan\n",
    "- Surname — nama belakang\n",
    "- CreditScore — skor kredit\n",
    "- Geography — negara domisili\n",
    "- Gender — gender\n",
    "- Age — umur\n",
    "- Tenure — jangka waktu jatuh tempo untuk deposito tetap nasabah (tahun)\n",
    "- Balance — saldo rekening\n",
    "- NumOfProducts — jumlah produk bank yang digunakan oleh nasabah\n",
    "- HasCrCard — apakah nasabah memiliki kartu kredit (1 - jika ya; 0 - jika tidak)\n",
    "- IsActiveMember — tingkat keaktifan nasabah (1 - jika ya; 0 - jika tidak)\n",
    "- EstimatedSalary — estimasi gaji\n",
    "- Target\n",
    "- Exited — apakah nasabah telah berhenti (1 - jika ya; 0 - jika tidak)\n",
    "\n",
    "**Target:**\n",
    "- Exited — apakah nasabah telah berhenti (1 - jika ya; 0 - jika tidak)"
   ]
  },
  {
   "cell_type": "markdown",
   "metadata": {},
   "source": [
    "## Unduh dan Siapkan Datanya\n",
    "Buka dan periksa file data secara teliti. File path:  /datasets/Churn.csv. Kemudian unduh dataset."
   ]
  },
  {
   "cell_type": "markdown",
   "metadata": {},
   "source": [
    "### Buka File Data"
   ]
  },
  {
   "cell_type": "code",
   "execution_count": 1,
   "metadata": {},
   "outputs": [],
   "source": [
    "# Import Library\n",
    "import pandas as pd"
   ]
  },
  {
   "cell_type": "code",
   "execution_count": 2,
   "metadata": {},
   "outputs": [
    {
     "name": "stdout",
     "output_type": "stream",
     "text": [
      "<class 'pandas.core.frame.DataFrame'>\n",
      "RangeIndex: 10000 entries, 0 to 9999\n",
      "Data columns (total 14 columns):\n",
      " #   Column           Non-Null Count  Dtype  \n",
      "---  ------           --------------  -----  \n",
      " 0   RowNumber        10000 non-null  int64  \n",
      " 1   CustomerId       10000 non-null  int64  \n",
      " 2   Surname          10000 non-null  object \n",
      " 3   CreditScore      10000 non-null  int64  \n",
      " 4   Geography        10000 non-null  object \n",
      " 5   Gender           10000 non-null  object \n",
      " 6   Age              10000 non-null  int64  \n",
      " 7   Tenure           9091 non-null   float64\n",
      " 8   Balance          10000 non-null  float64\n",
      " 9   NumOfProducts    10000 non-null  int64  \n",
      " 10  HasCrCard        10000 non-null  int64  \n",
      " 11  IsActiveMember   10000 non-null  int64  \n",
      " 12  EstimatedSalary  10000 non-null  float64\n",
      " 13  Exited           10000 non-null  int64  \n",
      "dtypes: float64(3), int64(8), object(3)\n",
      "memory usage: 1.1+ MB\n"
     ]
    },
    {
     "data": {
      "text/html": [
       "<div>\n",
       "<style scoped>\n",
       "    .dataframe tbody tr th:only-of-type {\n",
       "        vertical-align: middle;\n",
       "    }\n",
       "\n",
       "    .dataframe tbody tr th {\n",
       "        vertical-align: top;\n",
       "    }\n",
       "\n",
       "    .dataframe thead th {\n",
       "        text-align: right;\n",
       "    }\n",
       "</style>\n",
       "<table border=\"1\" class=\"dataframe\">\n",
       "  <thead>\n",
       "    <tr style=\"text-align: right;\">\n",
       "      <th></th>\n",
       "      <th>RowNumber</th>\n",
       "      <th>CustomerId</th>\n",
       "      <th>Surname</th>\n",
       "      <th>CreditScore</th>\n",
       "      <th>Geography</th>\n",
       "      <th>Gender</th>\n",
       "      <th>Age</th>\n",
       "      <th>Tenure</th>\n",
       "      <th>Balance</th>\n",
       "      <th>NumOfProducts</th>\n",
       "      <th>HasCrCard</th>\n",
       "      <th>IsActiveMember</th>\n",
       "      <th>EstimatedSalary</th>\n",
       "      <th>Exited</th>\n",
       "    </tr>\n",
       "  </thead>\n",
       "  <tbody>\n",
       "    <tr>\n",
       "      <th>0</th>\n",
       "      <td>1</td>\n",
       "      <td>15634602</td>\n",
       "      <td>Hargrave</td>\n",
       "      <td>619</td>\n",
       "      <td>France</td>\n",
       "      <td>Female</td>\n",
       "      <td>42</td>\n",
       "      <td>2.0</td>\n",
       "      <td>0.00</td>\n",
       "      <td>1</td>\n",
       "      <td>1</td>\n",
       "      <td>1</td>\n",
       "      <td>101348.88</td>\n",
       "      <td>1</td>\n",
       "    </tr>\n",
       "    <tr>\n",
       "      <th>1</th>\n",
       "      <td>2</td>\n",
       "      <td>15647311</td>\n",
       "      <td>Hill</td>\n",
       "      <td>608</td>\n",
       "      <td>Spain</td>\n",
       "      <td>Female</td>\n",
       "      <td>41</td>\n",
       "      <td>1.0</td>\n",
       "      <td>83807.86</td>\n",
       "      <td>1</td>\n",
       "      <td>0</td>\n",
       "      <td>1</td>\n",
       "      <td>112542.58</td>\n",
       "      <td>0</td>\n",
       "    </tr>\n",
       "    <tr>\n",
       "      <th>2</th>\n",
       "      <td>3</td>\n",
       "      <td>15619304</td>\n",
       "      <td>Onio</td>\n",
       "      <td>502</td>\n",
       "      <td>France</td>\n",
       "      <td>Female</td>\n",
       "      <td>42</td>\n",
       "      <td>8.0</td>\n",
       "      <td>159660.80</td>\n",
       "      <td>3</td>\n",
       "      <td>1</td>\n",
       "      <td>0</td>\n",
       "      <td>113931.57</td>\n",
       "      <td>1</td>\n",
       "    </tr>\n",
       "    <tr>\n",
       "      <th>3</th>\n",
       "      <td>4</td>\n",
       "      <td>15701354</td>\n",
       "      <td>Boni</td>\n",
       "      <td>699</td>\n",
       "      <td>France</td>\n",
       "      <td>Female</td>\n",
       "      <td>39</td>\n",
       "      <td>1.0</td>\n",
       "      <td>0.00</td>\n",
       "      <td>2</td>\n",
       "      <td>0</td>\n",
       "      <td>0</td>\n",
       "      <td>93826.63</td>\n",
       "      <td>0</td>\n",
       "    </tr>\n",
       "    <tr>\n",
       "      <th>4</th>\n",
       "      <td>5</td>\n",
       "      <td>15737888</td>\n",
       "      <td>Mitchell</td>\n",
       "      <td>850</td>\n",
       "      <td>Spain</td>\n",
       "      <td>Female</td>\n",
       "      <td>43</td>\n",
       "      <td>2.0</td>\n",
       "      <td>125510.82</td>\n",
       "      <td>1</td>\n",
       "      <td>1</td>\n",
       "      <td>1</td>\n",
       "      <td>79084.10</td>\n",
       "      <td>0</td>\n",
       "    </tr>\n",
       "  </tbody>\n",
       "</table>\n",
       "</div>"
      ],
      "text/plain": [
       "   RowNumber  CustomerId   Surname  CreditScore Geography  Gender  Age  \\\n",
       "0          1    15634602  Hargrave          619    France  Female   42   \n",
       "1          2    15647311      Hill          608     Spain  Female   41   \n",
       "2          3    15619304      Onio          502    France  Female   42   \n",
       "3          4    15701354      Boni          699    France  Female   39   \n",
       "4          5    15737888  Mitchell          850     Spain  Female   43   \n",
       "\n",
       "   Tenure    Balance  NumOfProducts  HasCrCard  IsActiveMember  \\\n",
       "0     2.0       0.00              1          1               1   \n",
       "1     1.0   83807.86              1          0               1   \n",
       "2     8.0  159660.80              3          1               0   \n",
       "3     1.0       0.00              2          0               0   \n",
       "4     2.0  125510.82              1          1               1   \n",
       "\n",
       "   EstimatedSalary  Exited  \n",
       "0        101348.88       1  \n",
       "1        112542.58       0  \n",
       "2        113931.57       1  \n",
       "3         93826.63       0  \n",
       "4         79084.10       0  "
      ]
     },
     "execution_count": 2,
     "metadata": {},
     "output_type": "execute_result"
    }
   ],
   "source": [
    "# Muat file data\n",
    "file_path = \"/datasets/Churn.csv\"\n",
    "data = pd.read_csv(file_path)\n",
    "data.info()\n",
    "data.head()"
   ]
  },
  {
   "cell_type": "markdown",
   "metadata": {},
   "source": [
    "### Persiapan Data (Pra-pemrosesan)"
   ]
  },
  {
   "cell_type": "code",
   "execution_count": 3,
   "metadata": {},
   "outputs": [
    {
     "name": "stdout",
     "output_type": "stream",
     "text": [
      "Jumlah duplikasi data: 0\n"
     ]
    }
   ],
   "source": [
    "# Check duplikasi data\n",
    "print(\"Jumlah duplikasi data:\", data.duplicated().sum())"
   ]
  },
  {
   "cell_type": "code",
   "execution_count": 4,
   "metadata": {},
   "outputs": [
    {
     "data": {
      "text/plain": [
       "RowNumber            0\n",
       "CustomerId           0\n",
       "Surname              0\n",
       "CreditScore          0\n",
       "Geography            0\n",
       "Gender               0\n",
       "Age                  0\n",
       "Tenure             909\n",
       "Balance              0\n",
       "NumOfProducts        0\n",
       "HasCrCard            0\n",
       "IsActiveMember       0\n",
       "EstimatedSalary      0\n",
       "Exited               0\n",
       "dtype: int64"
      ]
     },
     "execution_count": 4,
     "metadata": {},
     "output_type": "execute_result"
    }
   ],
   "source": [
    "# Pengecekan Missing Values\n",
    "data.isnull().sum()"
   ]
  },
  {
   "cell_type": "code",
   "execution_count": 5,
   "metadata": {},
   "outputs": [
    {
     "data": {
      "text/plain": [
       "count    9091.000000\n",
       "mean        4.997690\n",
       "std         2.894723\n",
       "min         0.000000\n",
       "25%         2.000000\n",
       "50%         5.000000\n",
       "75%         7.000000\n",
       "max        10.000000\n",
       "Name: Tenure, dtype: float64"
      ]
     },
     "execution_count": 5,
     "metadata": {},
     "output_type": "execute_result"
    }
   ],
   "source": [
    "# Menganalisa data statistik deskriptif untuk mengisi missing values pada kolom Tenure\n",
    "data['Tenure'].describe()"
   ]
  },
  {
   "cell_type": "markdown",
   "metadata": {},
   "source": [
    "**Dari hasil diatas dapat dilihat bahwa nilai median dengan mean memiliki nilai yang tidak terpaut jauh, sehingga untuk mengisi misiing values bisa dipertimbangkan dengan menggunakan nilai median. Tapi sebelum itu kita lihat dulu korelasi antara Tenure dengan kolom yang lain.**"
   ]
  },
  {
   "cell_type": "code",
   "execution_count": 6,
   "metadata": {},
   "outputs": [
    {
     "data": {
      "text/plain": [
       "Tenure             1.000000\n",
       "HasCrCard          0.027232\n",
       "NumOfProducts      0.011979\n",
       "EstimatedSalary    0.010520\n",
       "CreditScore       -0.000062\n",
       "RowNumber         -0.007322\n",
       "Balance           -0.007911\n",
       "Age               -0.013134\n",
       "Exited            -0.016761\n",
       "CustomerId        -0.021418\n",
       "IsActiveMember    -0.032178\n",
       "Name: Tenure, dtype: float64"
      ]
     },
     "execution_count": 6,
     "metadata": {},
     "output_type": "execute_result"
    }
   ],
   "source": [
    "# Korelasi dengan Fitur Lain\n",
    "correlation_matrix = data.corr()\n",
    "correlation_with_tenure = correlation_matrix['Tenure'].sort_values(ascending=False)\n",
    "correlation_with_tenure"
   ]
  },
  {
   "cell_type": "code",
   "execution_count": 7,
   "metadata": {},
   "outputs": [],
   "source": [
    "# Visualisasi distribusi 'Tenure'\n",
    "import matplotlib.pyplot as plt\n",
    "import seaborn as sns"
   ]
  },
  {
   "cell_type": "code",
   "execution_count": 8,
   "metadata": {},
   "outputs": [
    {
     "data": {
      "image/png": "[encoded data removed]",
      "text/plain": [
       "<Figure size 576x432 with 1 Axes>"
      ]
     },
     "metadata": {
      "needs_background": "light"
     },
     "output_type": "display_data"
    }
   ],
   "source": [
    "plt.figure(figsize=(8, 6))\n",
    "sns.histplot(data['Tenure'].dropna(), kde=True, bins=20, color='skyblue')\n",
    "plt.title('Distribusi Tenure Sebelum Pengisian Missing Values')\n",
    "plt.xlabel('Tenure')\n",
    "plt.ylabel('Frekuensi')\n",
    "plt.show()"
   ]
  },
  {
   "cell_type": "markdown",
   "metadata": {},
   "source": [
    "**Dari hasil diatas dapat dilihat bahwa korelasi Tenure dengan yang lain relatif rendah, sehingga penggunaan informasi dari kolom selain Tenure untuk mengisi missing values bisa jadi tidak relevan. \n",
    "Dari visualisasi grafik terlihat bahwa distribusi data 'Tenure' ini cenderung simetris.**\n",
    "\n",
    "**Dengan gambaran ini, penggunaan nilai median untuk mengisi missing values menjadi lebih beralasan**"
   ]
  },
  {
   "cell_type": "code",
   "execution_count": 9,
   "metadata": {},
   "outputs": [],
   "source": [
    "# Mengisi Missing Values pada Kolom 'Tenure' dengan Median\n",
    "data['Tenure'].fillna(data['Tenure'].median(), inplace=True)"
   ]
  },
  {
   "cell_type": "code",
   "execution_count": 10,
   "metadata": {},
   "outputs": [
    {
     "data": {
      "text/plain": [
       "RowNumber          0\n",
       "CustomerId         0\n",
       "Surname            0\n",
       "CreditScore        0\n",
       "Geography          0\n",
       "Gender             0\n",
       "Age                0\n",
       "Tenure             0\n",
       "Balance            0\n",
       "NumOfProducts      0\n",
       "HasCrCard          0\n",
       "IsActiveMember     0\n",
       "EstimatedSalary    0\n",
       "Exited             0\n",
       "dtype: int64"
      ]
     },
     "execution_count": 10,
     "metadata": {},
     "output_type": "execute_result"
    }
   ],
   "source": [
    "# Check pengisian missing values apakah sudah berhasil\n",
    "data.isnull().sum()"
   ]
  },
  {
   "cell_type": "code",
   "execution_count": 11,
   "metadata": {},
   "outputs": [
    {
     "data": {
      "text/html": [
       "<div>\n",
       "<style scoped>\n",
       "    .dataframe tbody tr th:only-of-type {\n",
       "        vertical-align: middle;\n",
       "    }\n",
       "\n",
       "    .dataframe tbody tr th {\n",
       "        vertical-align: top;\n",
       "    }\n",
       "\n",
       "    .dataframe thead th {\n",
       "        text-align: right;\n",
       "    }\n",
       "</style>\n",
       "<table border=\"1\" class=\"dataframe\">\n",
       "  <thead>\n",
       "    <tr style=\"text-align: right;\">\n",
       "      <th></th>\n",
       "      <th>CreditScore</th>\n",
       "      <th>Geography</th>\n",
       "      <th>Gender</th>\n",
       "      <th>Age</th>\n",
       "      <th>Tenure</th>\n",
       "      <th>Balance</th>\n",
       "      <th>NumOfProducts</th>\n",
       "      <th>HasCrCard</th>\n",
       "      <th>IsActiveMember</th>\n",
       "      <th>EstimatedSalary</th>\n",
       "      <th>Exited</th>\n",
       "    </tr>\n",
       "  </thead>\n",
       "  <tbody>\n",
       "    <tr>\n",
       "      <th>0</th>\n",
       "      <td>619</td>\n",
       "      <td>France</td>\n",
       "      <td>Female</td>\n",
       "      <td>42</td>\n",
       "      <td>2.0</td>\n",
       "      <td>0.00</td>\n",
       "      <td>1</td>\n",
       "      <td>1</td>\n",
       "      <td>1</td>\n",
       "      <td>101348.88</td>\n",
       "      <td>1</td>\n",
       "    </tr>\n",
       "    <tr>\n",
       "      <th>1</th>\n",
       "      <td>608</td>\n",
       "      <td>Spain</td>\n",
       "      <td>Female</td>\n",
       "      <td>41</td>\n",
       "      <td>1.0</td>\n",
       "      <td>83807.86</td>\n",
       "      <td>1</td>\n",
       "      <td>0</td>\n",
       "      <td>1</td>\n",
       "      <td>112542.58</td>\n",
       "      <td>0</td>\n",
       "    </tr>\n",
       "    <tr>\n",
       "      <th>2</th>\n",
       "      <td>502</td>\n",
       "      <td>France</td>\n",
       "      <td>Female</td>\n",
       "      <td>42</td>\n",
       "      <td>8.0</td>\n",
       "      <td>159660.80</td>\n",
       "      <td>3</td>\n",
       "      <td>1</td>\n",
       "      <td>0</td>\n",
       "      <td>113931.57</td>\n",
       "      <td>1</td>\n",
       "    </tr>\n",
       "    <tr>\n",
       "      <th>3</th>\n",
       "      <td>699</td>\n",
       "      <td>France</td>\n",
       "      <td>Female</td>\n",
       "      <td>39</td>\n",
       "      <td>1.0</td>\n",
       "      <td>0.00</td>\n",
       "      <td>2</td>\n",
       "      <td>0</td>\n",
       "      <td>0</td>\n",
       "      <td>93826.63</td>\n",
       "      <td>0</td>\n",
       "    </tr>\n",
       "    <tr>\n",
       "      <th>4</th>\n",
       "      <td>850</td>\n",
       "      <td>Spain</td>\n",
       "      <td>Female</td>\n",
       "      <td>43</td>\n",
       "      <td>2.0</td>\n",
       "      <td>125510.82</td>\n",
       "      <td>1</td>\n",
       "      <td>1</td>\n",
       "      <td>1</td>\n",
       "      <td>79084.10</td>\n",
       "      <td>0</td>\n",
       "    </tr>\n",
       "  </tbody>\n",
       "</table>\n",
       "</div>"
      ],
      "text/plain": [
       "   CreditScore Geography  Gender  Age  Tenure    Balance  NumOfProducts  \\\n",
       "0          619    France  Female   42     2.0       0.00              1   \n",
       "1          608     Spain  Female   41     1.0   83807.86              1   \n",
       "2          502    France  Female   42     8.0  159660.80              3   \n",
       "3          699    France  Female   39     1.0       0.00              2   \n",
       "4          850     Spain  Female   43     2.0  125510.82              1   \n",
       "\n",
       "   HasCrCard  IsActiveMember  EstimatedSalary  Exited  \n",
       "0          1               1        101348.88       1  \n",
       "1          0               1        112542.58       0  \n",
       "2          1               0        113931.57       1  \n",
       "3          0               0         93826.63       0  \n",
       "4          1               1         79084.10       0  "
      ]
     },
     "execution_count": 11,
     "metadata": {},
     "output_type": "execute_result"
    }
   ],
   "source": [
    "# Drop kolom yang tidak diperlukan\n",
    "data_cleaned = data.drop(columns=['RowNumber', 'CustomerId', 'Surname'])\n",
    "data_cleaned.head()"
   ]
  },
  {
   "cell_type": "markdown",
   "metadata": {},
   "source": [
    "**Kesimpulan Langkah 1:**\n",
    "- Terdapat missing data pada kolom 'Tenure'\n",
    "- Misiing data sudah diisi dengan nilai median dengan sebelumnya menganalisa data deskriptif, korelasi data Tenure dengan yang lain, serta visualisasi distribusi 'Tenure'."
   ]
  },
  {
   "cell_type": "markdown",
   "metadata": {},
   "source": [
    "## Periksa keseimbangan setiap kelas (class balance). \n",
    "Latih modelmu tanpa mempertimbangkan ketidakseimbangan (imbalance). Jelaskan temuan yang didapatkan secara singkat.\n",
    "\n",
    "Untuk memeriksa keseimbangan kelas, kita dapat melihatnya pada distribusi target kelas. Kolom 'Exited' merupakan target, yang menunjukkan apakah nasabah telah berhenti (1) atau tidak (0)."
   ]
  },
  {
   "cell_type": "code",
   "execution_count": 12,
   "metadata": {
    "scrolled": true
   },
   "outputs": [
    {
     "data": {
      "text/html": [
       "<div>\n",
       "<style scoped>\n",
       "    .dataframe tbody tr th:only-of-type {\n",
       "        vertical-align: middle;\n",
       "    }\n",
       "\n",
       "    .dataframe tbody tr th {\n",
       "        vertical-align: top;\n",
       "    }\n",
       "\n",
       "    .dataframe thead th {\n",
       "        text-align: right;\n",
       "    }\n",
       "</style>\n",
       "<table border=\"1\" class=\"dataframe\">\n",
       "  <thead>\n",
       "    <tr style=\"text-align: right;\">\n",
       "      <th></th>\n",
       "      <th>CreditScore</th>\n",
       "      <th>Age</th>\n",
       "      <th>Tenure</th>\n",
       "      <th>Balance</th>\n",
       "      <th>NumOfProducts</th>\n",
       "      <th>HasCrCard</th>\n",
       "      <th>IsActiveMember</th>\n",
       "      <th>EstimatedSalary</th>\n",
       "      <th>Exited</th>\n",
       "      <th>Geography_Germany</th>\n",
       "      <th>Geography_Spain</th>\n",
       "      <th>Gender_Male</th>\n",
       "    </tr>\n",
       "  </thead>\n",
       "  <tbody>\n",
       "    <tr>\n",
       "      <th>0</th>\n",
       "      <td>619</td>\n",
       "      <td>42</td>\n",
       "      <td>2.0</td>\n",
       "      <td>0.00</td>\n",
       "      <td>1</td>\n",
       "      <td>1</td>\n",
       "      <td>1</td>\n",
       "      <td>101348.88</td>\n",
       "      <td>1</td>\n",
       "      <td>0</td>\n",
       "      <td>0</td>\n",
       "      <td>0</td>\n",
       "    </tr>\n",
       "    <tr>\n",
       "      <th>1</th>\n",
       "      <td>608</td>\n",
       "      <td>41</td>\n",
       "      <td>1.0</td>\n",
       "      <td>83807.86</td>\n",
       "      <td>1</td>\n",
       "      <td>0</td>\n",
       "      <td>1</td>\n",
       "      <td>112542.58</td>\n",
       "      <td>0</td>\n",
       "      <td>0</td>\n",
       "      <td>1</td>\n",
       "      <td>0</td>\n",
       "    </tr>\n",
       "    <tr>\n",
       "      <th>2</th>\n",
       "      <td>502</td>\n",
       "      <td>42</td>\n",
       "      <td>8.0</td>\n",
       "      <td>159660.80</td>\n",
       "      <td>3</td>\n",
       "      <td>1</td>\n",
       "      <td>0</td>\n",
       "      <td>113931.57</td>\n",
       "      <td>1</td>\n",
       "      <td>0</td>\n",
       "      <td>0</td>\n",
       "      <td>0</td>\n",
       "    </tr>\n",
       "    <tr>\n",
       "      <th>3</th>\n",
       "      <td>699</td>\n",
       "      <td>39</td>\n",
       "      <td>1.0</td>\n",
       "      <td>0.00</td>\n",
       "      <td>2</td>\n",
       "      <td>0</td>\n",
       "      <td>0</td>\n",
       "      <td>93826.63</td>\n",
       "      <td>0</td>\n",
       "      <td>0</td>\n",
       "      <td>0</td>\n",
       "      <td>0</td>\n",
       "    </tr>\n",
       "    <tr>\n",
       "      <th>4</th>\n",
       "      <td>850</td>\n",
       "      <td>43</td>\n",
       "      <td>2.0</td>\n",
       "      <td>125510.82</td>\n",
       "      <td>1</td>\n",
       "      <td>1</td>\n",
       "      <td>1</td>\n",
       "      <td>79084.10</td>\n",
       "      <td>0</td>\n",
       "      <td>0</td>\n",
       "      <td>1</td>\n",
       "      <td>0</td>\n",
       "    </tr>\n",
       "    <tr>\n",
       "      <th>...</th>\n",
       "      <td>...</td>\n",
       "      <td>...</td>\n",
       "      <td>...</td>\n",
       "      <td>...</td>\n",
       "      <td>...</td>\n",
       "      <td>...</td>\n",
       "      <td>...</td>\n",
       "      <td>...</td>\n",
       "      <td>...</td>\n",
       "      <td>...</td>\n",
       "      <td>...</td>\n",
       "      <td>...</td>\n",
       "    </tr>\n",
       "    <tr>\n",
       "      <th>9995</th>\n",
       "      <td>771</td>\n",
       "      <td>39</td>\n",
       "      <td>5.0</td>\n",
       "      <td>0.00</td>\n",
       "      <td>2</td>\n",
       "      <td>1</td>\n",
       "      <td>0</td>\n",
       "      <td>96270.64</td>\n",
       "      <td>0</td>\n",
       "      <td>0</td>\n",
       "      <td>0</td>\n",
       "      <td>1</td>\n",
       "    </tr>\n",
       "    <tr>\n",
       "      <th>9996</th>\n",
       "      <td>516</td>\n",
       "      <td>35</td>\n",
       "      <td>10.0</td>\n",
       "      <td>57369.61</td>\n",
       "      <td>1</td>\n",
       "      <td>1</td>\n",
       "      <td>1</td>\n",
       "      <td>101699.77</td>\n",
       "      <td>0</td>\n",
       "      <td>0</td>\n",
       "      <td>0</td>\n",
       "      <td>1</td>\n",
       "    </tr>\n",
       "    <tr>\n",
       "      <th>9997</th>\n",
       "      <td>709</td>\n",
       "      <td>36</td>\n",
       "      <td>7.0</td>\n",
       "      <td>0.00</td>\n",
       "      <td>1</td>\n",
       "      <td>0</td>\n",
       "      <td>1</td>\n",
       "      <td>42085.58</td>\n",
       "      <td>1</td>\n",
       "      <td>0</td>\n",
       "      <td>0</td>\n",
       "      <td>0</td>\n",
       "    </tr>\n",
       "    <tr>\n",
       "      <th>9998</th>\n",
       "      <td>772</td>\n",
       "      <td>42</td>\n",
       "      <td>3.0</td>\n",
       "      <td>75075.31</td>\n",
       "      <td>2</td>\n",
       "      <td>1</td>\n",
       "      <td>0</td>\n",
       "      <td>92888.52</td>\n",
       "      <td>1</td>\n",
       "      <td>1</td>\n",
       "      <td>0</td>\n",
       "      <td>1</td>\n",
       "    </tr>\n",
       "    <tr>\n",
       "      <th>9999</th>\n",
       "      <td>792</td>\n",
       "      <td>28</td>\n",
       "      <td>5.0</td>\n",
       "      <td>130142.79</td>\n",
       "      <td>1</td>\n",
       "      <td>1</td>\n",
       "      <td>0</td>\n",
       "      <td>38190.78</td>\n",
       "      <td>0</td>\n",
       "      <td>0</td>\n",
       "      <td>0</td>\n",
       "      <td>0</td>\n",
       "    </tr>\n",
       "  </tbody>\n",
       "</table>\n",
       "<p>10000 rows × 12 columns</p>\n",
       "</div>"
      ],
      "text/plain": [
       "      CreditScore  Age  Tenure    Balance  NumOfProducts  HasCrCard  \\\n",
       "0             619   42     2.0       0.00              1          1   \n",
       "1             608   41     1.0   83807.86              1          0   \n",
       "2             502   42     8.0  159660.80              3          1   \n",
       "3             699   39     1.0       0.00              2          0   \n",
       "4             850   43     2.0  125510.82              1          1   \n",
       "...           ...  ...     ...        ...            ...        ...   \n",
       "9995          771   39     5.0       0.00              2          1   \n",
       "9996          516   35    10.0   57369.61              1          1   \n",
       "9997          709   36     7.0       0.00              1          0   \n",
       "9998          772   42     3.0   75075.31              2          1   \n",
       "9999          792   28     5.0  130142.79              1          1   \n",
       "\n",
       "      IsActiveMember  EstimatedSalary  Exited  Geography_Germany  \\\n",
       "0                  1        101348.88       1                  0   \n",
       "1                  1        112542.58       0                  0   \n",
       "2                  0        113931.57       1                  0   \n",
       "3                  0         93826.63       0                  0   \n",
       "4                  1         79084.10       0                  0   \n",
       "...              ...              ...     ...                ...   \n",
       "9995               0         96270.64       0                  0   \n",
       "9996               1        101699.77       0                  0   \n",
       "9997               1         42085.58       1                  0   \n",
       "9998               0         92888.52       1                  1   \n",
       "9999               0         38190.78       0                  0   \n",
       "\n",
       "      Geography_Spain  Gender_Male  \n",
       "0                   0            0  \n",
       "1                   1            0  \n",
       "2                   0            0  \n",
       "3                   0            0  \n",
       "4                   1            0  \n",
       "...               ...          ...  \n",
       "9995                0            1  \n",
       "9996                0            1  \n",
       "9997                0            0  \n",
       "9998                0            1  \n",
       "9999                0            0  \n",
       "\n",
       "[10000 rows x 12 columns]"
      ]
     },
     "execution_count": 12,
     "metadata": {},
     "output_type": "execute_result"
    }
   ],
   "source": [
    "# One-Hot Encoding untuk kolom kategorikal\n",
    "data_ohe = pd.get_dummies(data_cleaned, columns=['Geography', 'Gender'], drop_first=True)\n",
    "data_ohe"
   ]
  },
  {
   "cell_type": "code",
   "execution_count": 13,
   "metadata": {},
   "outputs": [],
   "source": [
    "# Normalisasi fitur numerik\n",
    "from sklearn.preprocessing import StandardScaler\n",
    "\n",
    "numerical_features = ['CreditScore', 'Age', 'Tenure', 'Balance', 'EstimatedSalary']\n",
    "scaler = StandardScaler()\n",
    "data_ohe[numerical_features] = scaler.fit_transform(data_ohe[numerical_features])"
   ]
  },
  {
   "cell_type": "code",
   "execution_count": 14,
   "metadata": {},
   "outputs": [
    {
     "data": {
      "text/plain": [
       "0    7963\n",
       "1    2037\n",
       "Name: Exited, dtype: int64"
      ]
     },
     "execution_count": 14,
     "metadata": {},
     "output_type": "execute_result"
    }
   ],
   "source": [
    "# Memeriksa keseimbangan kelas\n",
    "class_distribution = data_ohe['Exited'].value_counts()\n",
    "class_distribution"
   ]
  },
  {
   "cell_type": "code",
   "execution_count": 15,
   "metadata": {},
   "outputs": [
    {
     "data": {
      "image/png": "[encoded data removed]",
      "text/plain": [
       "<Figure size 576x432 with 1 Axes>"
      ]
     },
     "metadata": {
      "needs_background": "light"
     },
     "output_type": "display_data"
    }
   ],
   "source": [
    "# Visualisasi distribusi kelas\n",
    "plt.figure(figsize=(8,6))\n",
    "sns.countplot(x='Exited', data=data_ohe)\n",
    "plt.title('Distribusi Kelas (Exited)')\n",
    "plt.xlabel('Exited (1: Ya, 0: Tidak)')\n",
    "plt.ylabel('Jumlah')\n",
    "plt.show()"
   ]
  },
  {
   "cell_type": "markdown",
   "metadata": {},
   "source": [
    "**Dari grafik diatas dapat terlihat ketidakseimbangan kelas, dimana kelas 0 memiliki jumlah data yang jauh lebih besar dibandingkan kelas 1.**"
   ]
  },
  {
   "cell_type": "markdown",
   "metadata": {},
   "source": [
    "### Pemisahan data menjadi training set dan test set"
   ]
  },
  {
   "cell_type": "code",
   "execution_count": 16,
   "metadata": {},
   "outputs": [],
   "source": [
    "from sklearn.model_selection import train_test_split"
   ]
  },
  {
   "cell_type": "code",
   "execution_count": 17,
   "metadata": {},
   "outputs": [],
   "source": [
    "# Pisahkan fitur (X) dan target (y)\n",
    "X = data_ohe.drop(columns=['Exited'])\n",
    "y = data_ohe['Exited']"
   ]
  },
  {
   "cell_type": "code",
   "execution_count": 18,
   "metadata": {},
   "outputs": [],
   "source": [
    "# Pisahkan data menjadi training set dan test set\n",
    "X_train, X_test, y_train, y_test = train_test_split(X, y, test_size=0.2, random_state=123)"
   ]
  },
  {
   "cell_type": "code",
   "execution_count": 19,
   "metadata": {},
   "outputs": [
    {
     "data": {
      "text/plain": [
       "0    6377\n",
       "1    1623\n",
       "Name: Exited, dtype: int64"
      ]
     },
     "execution_count": 19,
     "metadata": {},
     "output_type": "execute_result"
    }
   ],
   "source": [
    "# Cek distribusi kelas di training set\n",
    "class_distribution_train = y_train.value_counts()\n",
    "class_distribution_train"
   ]
  },
  {
   "cell_type": "markdown",
   "metadata": {},
   "source": [
    "### Melatih Model Logistic Regression, Decision Tree, dan Random Forest"
   ]
  },
  {
   "cell_type": "code",
   "execution_count": 20,
   "metadata": {},
   "outputs": [],
   "source": [
    "from sklearn.linear_model import LogisticRegression\n",
    "from sklearn.tree import DecisionTreeClassifier\n",
    "from sklearn.ensemble import RandomForestClassifier\n",
    "from sklearn.metrics import classification_report"
   ]
  },
  {
   "cell_type": "code",
   "execution_count": 21,
   "metadata": {},
   "outputs": [],
   "source": [
    "# Inisialisasi model\n",
    "logreg_model = LogisticRegression(random_state=123)\n",
    "dt_model = DecisionTreeClassifier(random_state=123)\n",
    "rf_model = RandomForestClassifier(random_state=123)"
   ]
  },
  {
   "cell_type": "code",
   "execution_count": 22,
   "metadata": {},
   "outputs": [
    {
     "data": {
      "text/plain": [
       "RandomForestClassifier(random_state=123)"
      ]
     },
     "execution_count": 22,
     "metadata": {},
     "output_type": "execute_result"
    }
   ],
   "source": [
    "# Latih model tanpa penanganan ketidakseimbangan kelas\n",
    "logreg_model.fit(X_train, y_train)\n",
    "dt_model.fit(X_train, y_train)\n",
    "rf_model.fit(X_train, y_train)"
   ]
  },
  {
   "cell_type": "code",
   "execution_count": 23,
   "metadata": {},
   "outputs": [],
   "source": [
    "# Evaluasi model pada test set\n",
    "logreg_pred = logreg_model.predict(X_test)\n",
    "dt_pred = dt_model.predict(X_test)\n",
    "rf_pred = rf_model.predict(X_test)"
   ]
  },
  {
   "cell_type": "code",
   "execution_count": 24,
   "metadata": {},
   "outputs": [
    {
     "name": "stdout",
     "output_type": "stream",
     "text": [
      "Logistic Regression:\n",
      "               precision    recall  f1-score   support\n",
      "\n",
      "           0       0.83      0.96      0.89      1586\n",
      "           1       0.63      0.23      0.34       414\n",
      "\n",
      "    accuracy                           0.81      2000\n",
      "   macro avg       0.73      0.60      0.61      2000\n",
      "weighted avg       0.79      0.81      0.78      2000\n",
      "\n",
      "Decision Tree:\n",
      "               precision    recall  f1-score   support\n",
      "\n",
      "           0       0.87      0.87      0.87      1586\n",
      "           1       0.51      0.52      0.52       414\n",
      "\n",
      "    accuracy                           0.80      2000\n",
      "   macro avg       0.69      0.70      0.69      2000\n",
      "weighted avg       0.80      0.80      0.80      2000\n",
      "\n",
      "Random Forest:\n",
      "               precision    recall  f1-score   support\n",
      "\n",
      "           0       0.87      0.96      0.91      1586\n",
      "           1       0.76      0.45      0.57       414\n",
      "\n",
      "    accuracy                           0.86      2000\n",
      "   macro avg       0.82      0.71      0.74      2000\n",
      "weighted avg       0.85      0.86      0.84      2000\n",
      "\n"
     ]
    }
   ],
   "source": [
    "# Tampilkan classification report\n",
    "print(\"Logistic Regression:\\n\", classification_report(y_test, logreg_pred))\n",
    "print(\"Decision Tree:\\n\", classification_report(y_test, dt_pred))\n",
    "print(\"Random Forest:\\n\", classification_report(y_test, rf_pred))"
   ]
  },
  {
   "cell_type": "markdown",
   "metadata": {},
   "source": [
    "**Kesimpulan Langkah 2:**\n",
    "- Logistic Regression \n",
    "\n",
    "F1-score untuk kelas 0 (Label 0): 0.89\n",
    "\n",
    "F1-score untuk kelas 1 (Label 1): 0.34\n",
    "\n",
    "- Decision Tree\n",
    "\n",
    "F1-score untuk kelas 0 (Label 0): 0.87\n",
    "\n",
    "F1-score untuk kelas 1 (Label 1): 0.52\n",
    "\n",
    "- Random Forest\n",
    "\n",
    "F1-score untuk kelas 0 (Label 0): 0.91\n",
    "\n",
    "F1-score untuk kelas 1 (Label 1): 0.57"
   ]
  },
  {
   "cell_type": "markdown",
   "metadata": {},
   "source": [
    "## Penanganan Ketidakseimbangan Kelas menggunakan teknik Upsampling dan Downsampling"
   ]
  },
  {
   "cell_type": "markdown",
   "metadata": {},
   "source": [
    "#### Teknik Upsampling dan Downsampling\n"
   ]
  },
  {
   "cell_type": "code",
   "execution_count": 25,
   "metadata": {},
   "outputs": [],
   "source": [
    "from sklearn.utils import resample"
   ]
  },
  {
   "cell_type": "code",
   "execution_count": 26,
   "metadata": {},
   "outputs": [],
   "source": [
    "# Gabungkan training set kembali\n",
    "train_data = pd.concat([X_train, y_train], axis=1)"
   ]
  },
  {
   "cell_type": "code",
   "execution_count": 27,
   "metadata": {},
   "outputs": [],
   "source": [
    "# Pisahkan kelas mayoritas dan minoritas\n",
    "class_majority = train_data[train_data['Exited'] == 0]\n",
    "class_minority = train_data[train_data['Exited'] == 1]"
   ]
  },
  {
   "cell_type": "code",
   "execution_count": 28,
   "metadata": {},
   "outputs": [],
   "source": [
    "# Upsampling kelas minoritas\n",
    "class_minority_upsampled = resample(class_minority, replace=True, n_samples=len(class_majority), random_state=123)"
   ]
  },
  {
   "cell_type": "code",
   "execution_count": 29,
   "metadata": {},
   "outputs": [],
   "source": [
    "# Gabungkan kembali hasil upsampling dengan kelas mayoritas\n",
    "upsampled_data = pd.concat([class_majority, class_minority_upsampled])"
   ]
  },
  {
   "cell_type": "code",
   "execution_count": 30,
   "metadata": {},
   "outputs": [],
   "source": [
    "# Downsampling kelas mayoritas\n",
    "class_majority_downsampled = resample(class_majority, replace=False, n_samples=len(class_minority), random_state=123)"
   ]
  },
  {
   "cell_type": "code",
   "execution_count": 31,
   "metadata": {},
   "outputs": [],
   "source": [
    "# Gabungkan kembali hasil downsampling dengan kelas minoritas\n",
    "downsampled_data = pd.concat([class_majority_downsampled, class_minority])"
   ]
  },
  {
   "cell_type": "markdown",
   "metadata": {},
   "source": [
    "### Membagi data setelah upsampling & downsampling & Melatih Model"
   ]
  },
  {
   "cell_type": "markdown",
   "metadata": {},
   "source": [
    "#### Pisahkan fitur dan target setelah upsampling & downsampling"
   ]
  },
  {
   "cell_type": "code",
   "execution_count": 32,
   "metadata": {},
   "outputs": [],
   "source": [
    "# Pisahkan fitur dan target pada data yang sudah di-upsample dan di-downsample\n",
    "X_upsampled = upsampled_data.drop(columns=['Exited'])\n",
    "y_upsampled = upsampled_data['Exited']"
   ]
  },
  {
   "cell_type": "code",
   "execution_count": 33,
   "metadata": {},
   "outputs": [],
   "source": [
    "X_downsampled = downsampled_data.drop(columns=['Exited'])\n",
    "y_downsampled = downsampled_data['Exited']"
   ]
  },
  {
   "cell_type": "markdown",
   "metadata": {},
   "source": [
    "#### Latih Model pada data setelah upsampling & downsampling"
   ]
  },
  {
   "cell_type": "code",
   "execution_count": 34,
   "metadata": {},
   "outputs": [
    {
     "data": {
      "text/plain": [
       "LogisticRegression(random_state=123)"
      ]
     },
     "execution_count": 34,
     "metadata": {},
     "output_type": "execute_result"
    }
   ],
   "source": [
    "# Latih model Logistic Regression pada data yang di-upsampled\n",
    "logreg_model_upsampled = LogisticRegression(random_state=123)\n",
    "logreg_model_upsampled.fit(X_upsampled, y_upsampled)"
   ]
  },
  {
   "cell_type": "code",
   "execution_count": 35,
   "metadata": {},
   "outputs": [
    {
     "data": {
      "text/plain": [
       "LogisticRegression(random_state=123)"
      ]
     },
     "execution_count": 35,
     "metadata": {},
     "output_type": "execute_result"
    }
   ],
   "source": [
    "# Latih model Logistic Regression pada data yang di-downsampled\n",
    "logreg_model_downsampled = LogisticRegression(random_state=123)\n",
    "logreg_model_downsampled.fit(X_downsampled, y_downsampled)"
   ]
  },
  {
   "cell_type": "markdown",
   "metadata": {},
   "source": [
    "### Pencarian Parameter Terbaik\n",
    "Mencari parameter terbaik untuk model menggunakan teknik GridSearchCV."
   ]
  },
  {
   "cell_type": "code",
   "execution_count": 36,
   "metadata": {},
   "outputs": [],
   "source": [
    "from sklearn.model_selection import GridSearchCV"
   ]
  },
  {
   "cell_type": "code",
   "execution_count": 37,
   "metadata": {},
   "outputs": [],
   "source": [
    "# Parameter grid untuk Decision Tree\n",
    "param_grid_dt = {'max_depth': [None, 5, 10, 15],\n",
    "                 'min_samples_split': [2, 5, 10],\n",
    "                 'min_samples_leaf': [1, 2, 4]}"
   ]
  },
  {
   "cell_type": "code",
   "execution_count": 38,
   "metadata": {},
   "outputs": [],
   "source": [
    "# Inisialisasi model Decision Tree\n",
    "dt_model_tuned = DecisionTreeClassifier(random_state=123)"
   ]
  },
  {
   "cell_type": "code",
   "execution_count": 39,
   "metadata": {},
   "outputs": [
    {
     "data": {
      "text/plain": [
       "GridSearchCV(cv=5, estimator=DecisionTreeClassifier(random_state=123),\n",
       "             param_grid={'max_depth': [None, 5, 10, 15],\n",
       "                         'min_samples_leaf': [1, 2, 4],\n",
       "                         'min_samples_split': [2, 5, 10]},\n",
       "             scoring='f1')"
      ]
     },
     "execution_count": 39,
     "metadata": {},
     "output_type": "execute_result"
    }
   ],
   "source": [
    "# Membuat objek GridSearchCV untuk Decision Tree\n",
    "grid_search_dt = GridSearchCV(dt_model_tuned, param_grid_dt, scoring='f1', cv=5)\n",
    "grid_search_dt.fit(X_train, y_train)"
   ]
  },
  {
   "cell_type": "code",
   "execution_count": 40,
   "metadata": {},
   "outputs": [],
   "source": [
    "# Parameter terbaik untuk Decision Tree\n",
    "best_params_dt = grid_search_dt.best_params_"
   ]
  },
  {
   "cell_type": "code",
   "execution_count": 41,
   "metadata": {},
   "outputs": [],
   "source": [
    "# Parameter grid untuk Random Forest\n",
    "param_grid_rf = {'n_estimators': [50, 100, 200],\n",
    "                 'max_depth': [None, 5, 10, 15],\n",
    "                 'min_samples_split': [2, 5, 10],\n",
    "                 'min_samples_leaf': [1, 2, 4]}"
   ]
  },
  {
   "cell_type": "code",
   "execution_count": 42,
   "metadata": {},
   "outputs": [],
   "source": [
    "# Inisialisasi model Random Forest\n",
    "rf_model_tuned = RandomForestClassifier(random_state=123)"
   ]
  },
  {
   "cell_type": "code",
   "execution_count": 43,
   "metadata": {},
   "outputs": [
    {
     "data": {
      "text/plain": [
       "GridSearchCV(cv=5, estimator=RandomForestClassifier(random_state=123),\n",
       "             param_grid={'max_depth': [None, 5, 10, 15],\n",
       "                         'min_samples_leaf': [1, 2, 4],\n",
       "                         'min_samples_split': [2, 5, 10],\n",
       "                         'n_estimators': [50, 100, 200]},\n",
       "             scoring='f1')"
      ]
     },
     "execution_count": 43,
     "metadata": {},
     "output_type": "execute_result"
    }
   ],
   "source": [
    "# Membuat objek GridSearchCV untuk Random Forest\n",
    "grid_search_rf = GridSearchCV(rf_model_tuned, param_grid_rf, scoring='f1', cv=5)\n",
    "grid_search_rf.fit(X_train, y_train)"
   ]
  },
  {
   "cell_type": "code",
   "execution_count": 44,
   "metadata": {},
   "outputs": [],
   "source": [
    "# Parameter terbaik untuk Random Forest\n",
    "best_params_rf = grid_search_rf.best_params_"
   ]
  },
  {
   "cell_type": "markdown",
   "metadata": {},
   "source": [
    "### Melatih Ulang Model dengan Parameter Terbaik"
   ]
  },
  {
   "cell_type": "code",
   "execution_count": 45,
   "metadata": {},
   "outputs": [
    {
     "data": {
      "text/plain": [
       "DecisionTreeClassifier(max_depth=5, min_samples_leaf=2, min_samples_split=5,\n",
       "                       random_state=123)"
      ]
     },
     "execution_count": 45,
     "metadata": {},
     "output_type": "execute_result"
    }
   ],
   "source": [
    "# Latih ulang model Decision Tree dengan parameter terbaik\n",
    "dt_model_best = DecisionTreeClassifier(**best_params_dt, random_state=123)\n",
    "dt_model_best.fit(X_train, y_train)"
   ]
  },
  {
   "cell_type": "code",
   "execution_count": 46,
   "metadata": {},
   "outputs": [
    {
     "data": {
      "text/plain": [
       "RandomForestClassifier(min_samples_leaf=2, min_samples_split=10,\n",
       "                       n_estimators=50, random_state=123)"
      ]
     },
     "execution_count": 46,
     "metadata": {},
     "output_type": "execute_result"
    }
   ],
   "source": [
    "# Latih ulang model Random Forest dengan parameter terbaik\n",
    "rf_model_best = RandomForestClassifier(**best_params_rf, random_state=123)\n",
    "rf_model_best.fit(X_train, y_train)"
   ]
  },
  {
   "cell_type": "markdown",
   "metadata": {},
   "source": [
    "**Kesimpulan Langkah 3 :**\n",
    "\n",
    "Mengatasi ketidakseimbangan kelas dengan menggunakan teknik Upsampling dan Downsampling serta mengoptimalkan parameter model menggunakan GridSearchCV. Hal ini dilakukan untuk meningkatkan kinerja model dalam menangani data yang tidak seimbang."
   ]
  },
  {
   "cell_type": "markdown",
   "metadata": {},
   "source": [
    "## Pengujian Terakhir dan Mengukur Metrik"
   ]
  },
  {
   "cell_type": "markdown",
   "metadata": {},
   "source": [
    "### F1 Score dan ROC-AUC Score"
   ]
  },
  {
   "cell_type": "code",
   "execution_count": 47,
   "metadata": {},
   "outputs": [],
   "source": [
    "from sklearn.metrics import roc_auc_score, roc_curve, f1_score\n",
    "\n",
    "# Fungsi untuk menampilkan kurva ROC\n",
    "def plot_roc_curve(y_true, y_prob, model_name):\n",
    "    auc = roc_auc_score(y_true, y_prob)\n",
    "    fpr, tpr, thresholds = roc_curve(y_true, y_prob)\n",
    "    plt.plot(fpr, tpr, label=f'{model_name} (AUC = {auc:.2f})')\n",
    "    plt.plot([0, 1], [0, 1], 'k--')\n",
    "    plt.xlabel('False Positive Rate')\n",
    "    plt.ylabel('True Positive Rate')\n",
    "    plt.title('ROC Curve')\n",
    "    plt.legend(loc='lower right')\n",
    "    plt.show()"
   ]
  },
  {
   "cell_type": "code",
   "execution_count": 48,
   "metadata": {},
   "outputs": [],
   "source": [
    "# Fungsi untuk menampilkan hasil evaluasi model\n",
    "def evaluate_model(model, X_test, y_test):\n",
    "    y_pred = model.predict(X_test)\n",
    "    y_prob = model.predict_proba(X_test)[:, 1]\n",
    "\n",
    "    print(\"Classification Report:\\n\", classification_report(y_test, y_pred))\n",
    "    print(\"F1 Score:\", f1_score(y_test, y_pred))\n",
    "    plot_roc_curve(y_test, y_prob, model.__class__.__name__)"
   ]
  },
  {
   "cell_type": "code",
   "execution_count": 49,
   "metadata": {},
   "outputs": [
    {
     "name": "stdout",
     "output_type": "stream",
     "text": [
      "Logistic Regression (Tanpa Penanganan Ketidakseimbangan):\n",
      "Classification Report:\n",
      "               precision    recall  f1-score   support\n",
      "\n",
      "           0       0.83      0.96      0.89      1586\n",
      "           1       0.63      0.23      0.34       414\n",
      "\n",
      "    accuracy                           0.81      2000\n",
      "   macro avg       0.73      0.60      0.61      2000\n",
      "weighted avg       0.79      0.81      0.78      2000\n",
      "\n",
      "F1 Score: 0.33628318584070793\n"
     ]
    },
    {
     "data": {
      "image/png": "[encoded data removed]",
      "text/plain": [
       "<Figure size 432x288 with 1 Axes>"
      ]
     },
     "metadata": {
      "needs_background": "light"
     },
     "output_type": "display_data"
    }
   ],
   "source": [
    "# Evaluasi model Logistic Regression tanpa penanganan ketidakseimbangan\n",
    "print(\"Logistic Regression (Tanpa Penanganan Ketidakseimbangan):\")\n",
    "evaluate_model(logreg_model, X_test, y_test)"
   ]
  },
  {
   "cell_type": "code",
   "execution_count": 50,
   "metadata": {},
   "outputs": [
    {
     "name": "stdout",
     "output_type": "stream",
     "text": [
      "Logistic Regression (Upsampling):\n",
      "Classification Report:\n",
      "               precision    recall  f1-score   support\n",
      "\n",
      "           0       0.91      0.70      0.79      1586\n",
      "           1       0.39      0.73      0.51       414\n",
      "\n",
      "    accuracy                           0.71      2000\n",
      "   macro avg       0.65      0.72      0.65      2000\n",
      "weighted avg       0.80      0.71      0.73      2000\n",
      "\n",
      "F1 Score: 0.5097046413502109\n"
     ]
    },
    {
     "data": {
      "image/png": "[encoded data removed]",
      "text/plain": [
       "<Figure size 432x288 with 1 Axes>"
      ]
     },
     "metadata": {
      "needs_background": "light"
     },
     "output_type": "display_data"
    }
   ],
   "source": [
    "# Evaluasi model Logistic Regression dengan upsampling\n",
    "print(\"Logistic Regression (Upsampling):\")\n",
    "evaluate_model(logreg_model_upsampled, X_test, y_test)"
   ]
  },
  {
   "cell_type": "code",
   "execution_count": 51,
   "metadata": {},
   "outputs": [
    {
     "name": "stdout",
     "output_type": "stream",
     "text": [
      "Logistic Regression (Downsampling):\n",
      "Classification Report:\n",
      "               precision    recall  f1-score   support\n",
      "\n",
      "           0       0.91      0.70      0.79      1586\n",
      "           1       0.39      0.72      0.50       414\n",
      "\n",
      "    accuracy                           0.71      2000\n",
      "   macro avg       0.65      0.71      0.65      2000\n",
      "weighted avg       0.80      0.71      0.73      2000\n",
      "\n",
      "F1 Score: 0.5033783783783784\n"
     ]
    },
    {
     "data": {
      "image/png": "[encoded data removed]",
      "text/plain": [
       "<Figure size 432x288 with 1 Axes>"
      ]
     },
     "metadata": {
      "needs_background": "light"
     },
     "output_type": "display_data"
    }
   ],
   "source": [
    "# Evaluasi model Logistic Regression dengan downsampling\n",
    "print(\"Logistic Regression (Downsampling):\")\n",
    "evaluate_model(logreg_model_downsampled, X_test, y_test)"
   ]
  },
  {
   "cell_type": "code",
   "execution_count": 52,
   "metadata": {},
   "outputs": [
    {
     "name": "stdout",
     "output_type": "stream",
     "text": [
      "Decision Tree (Parameter Terbaik):\n",
      "Classification Report:\n",
      "               precision    recall  f1-score   support\n",
      "\n",
      "           0       0.88      0.95      0.91      1586\n",
      "           1       0.72      0.50      0.59       414\n",
      "\n",
      "    accuracy                           0.86      2000\n",
      "   macro avg       0.80      0.73      0.75      2000\n",
      "weighted avg       0.85      0.86      0.85      2000\n",
      "\n",
      "F1 Score: 0.5917496443812235\n"
     ]
    },
    {
     "data": {
      "image/png": "[encoded data removed]",
      "text/plain": [
       "<Figure size 432x288 with 1 Axes>"
      ]
     },
     "metadata": {
      "needs_background": "light"
     },
     "output_type": "display_data"
    }
   ],
   "source": [
    "# Evaluasi model Decision Tree dengan parameter terbaik\n",
    "print(\"Decision Tree (Parameter Terbaik):\")\n",
    "evaluate_model(dt_model_best, X_test, y_test)"
   ]
  },
  {
   "cell_type": "code",
   "execution_count": 53,
   "metadata": {},
   "outputs": [
    {
     "name": "stdout",
     "output_type": "stream",
     "text": [
      "Random Forest (Parameter Terbaik):\n",
      "Classification Report:\n",
      "               precision    recall  f1-score   support\n",
      "\n",
      "           0       0.87      0.96      0.91      1586\n",
      "           1       0.76      0.45      0.56       414\n",
      "\n",
      "    accuracy                           0.86      2000\n",
      "   macro avg       0.82      0.71      0.74      2000\n",
      "weighted avg       0.85      0.86      0.84      2000\n",
      "\n",
      "F1 Score: 0.5640243902439025\n"
     ]
    },
    {
     "data": {
      "image/png": "[encoded data removed]",
      "text/plain": [
       "<Figure size 432x288 with 1 Axes>"
      ]
     },
     "metadata": {
      "needs_background": "light"
     },
     "output_type": "display_data"
    }
   ],
   "source": [
    "# Evaluasi model Random Forest dengan parameter terbaik\n",
    "print(\"Random Forest (Parameter Terbaik):\")\n",
    "evaluate_model(rf_model_best, X_test, y_test)"
   ]
  },
  {
   "cell_type": "code",
   "execution_count": 54,
   "metadata": {},
   "outputs": [
    {
     "name": "stdout",
     "output_type": "stream",
     "text": [
      "Skor F1 pada Dataset Pengujian:\n",
      "LogisticRegression - F1 Score: 0.3363\n",
      "LogisticRegression - F1 Score: 0.5097\n",
      "LogisticRegression - F1 Score: 0.5034\n",
      "DecisionTreeClassifier - F1 Score: 0.5917\n",
      "RandomForestClassifier - F1 Score: 0.5640\n"
     ]
    }
   ],
   "source": [
    "# Fungsi untuk mengevaluasi dan mencetak skor F1 dari setiap model\n",
    "def evaluate_f1_score(model, X_test, y_test):\n",
    "    y_pred = model.predict(X_test)\n",
    "    f1 = f1_score(y_test, y_pred)\n",
    "    print(f\"{model.__class__.__name__} - F1 Score: {f1:.4f}\")\n",
    "\n",
    "# Evaluasi skor F1 dari setiap model\n",
    "print(\"Skor F1 pada Dataset Pengujian:\")\n",
    "evaluate_f1_score(logreg_model, X_test, y_test)\n",
    "evaluate_f1_score(logreg_model_upsampled, X_test, y_test)\n",
    "evaluate_f1_score(logreg_model_downsampled, X_test, y_test)\n",
    "evaluate_f1_score(dt_model_best, X_test, y_test)\n",
    "evaluate_f1_score(rf_model_best, X_test, y_test)"
   ]
  },
  {
   "cell_type": "markdown",
   "metadata": {},
   "source": [
    "### Confusion Matrix"
   ]
  },
  {
   "cell_type": "code",
   "execution_count": 55,
   "metadata": {},
   "outputs": [],
   "source": [
    "from sklearn.metrics import confusion_matrix\n",
    "import seaborn as sns\n",
    "\n",
    "# Fungsi untuk menampilkan confusion matrix\n",
    "def plot_confusion_matrix(y_true, y_pred, model_name):\n",
    "    cm = confusion_matrix(y_true, y_pred)\n",
    "    plt.figure(figsize=(6, 4))\n",
    "    sns.heatmap(cm, annot=True, fmt='d', cmap='Blues', cbar=False)\n",
    "    plt.title(f'Confusion Matrix - {model_name}')\n",
    "    plt.xlabel('Predicted')\n",
    "    plt.ylabel('Actual')\n",
    "    plt.show()"
   ]
  },
  {
   "cell_type": "code",
   "execution_count": 56,
   "metadata": {},
   "outputs": [
    {
     "name": "stdout",
     "output_type": "stream",
     "text": [
      "Logistic Regression (Tanpa Penanganan Ketidakseimbangan):\n",
      "Classification Report:\n",
      "               precision    recall  f1-score   support\n",
      "\n",
      "           0       0.83      0.96      0.89      1586\n",
      "           1       0.63      0.23      0.34       414\n",
      "\n",
      "    accuracy                           0.81      2000\n",
      "   macro avg       0.73      0.60      0.61      2000\n",
      "weighted avg       0.79      0.81      0.78      2000\n",
      "\n",
      "F1 Score: 0.33628318584070793\n"
     ]
    },
    {
     "data": {
      "image/png": "[encoded data removed]",
      "text/plain": [
       "<Figure size 432x288 with 1 Axes>"
      ]
     },
     "metadata": {
      "needs_background": "light"
     },
     "output_type": "display_data"
    },
    {
     "data": {
      "image/png": "[encoded data removed]",
      "text/plain": [
       "<Figure size 432x288 with 1 Axes>"
      ]
     },
     "metadata": {
      "needs_background": "light"
     },
     "output_type": "display_data"
    }
   ],
   "source": [
    "# Evaluasi model Logistic Regression tanpa penanganan ketidakseimbangan\n",
    "print(\"Logistic Regression (Tanpa Penanganan Ketidakseimbangan):\")\n",
    "evaluate_model(logreg_model, X_test, y_test)\n",
    "plot_confusion_matrix(y_test, logreg_model.predict(X_test), 'Logistic Regression')"
   ]
  },
  {
   "cell_type": "code",
   "execution_count": 57,
   "metadata": {},
   "outputs": [],
   "source": [
    "# Kesimpulan dan Rekomendasi\n",
    "# Fungsi untuk memberikan kesimpulan dan rekomendasi\n",
    "def conclusion_recommendation(models):\n",
    "    for model in models:\n",
    "        y_pred = model.predict(X_test)\n",
    "        f1 = f1_score(y_test, y_pred)\n",
    "        auc_roc = roc_auc_score(y_test, model.predict_proba(X_test)[:, 1])\n",
    "\n",
    "        print(f\"\\nModel: {model.__class__.__name__}\")\n",
    "        print(f\"F1 Score: {f1:.4f}\")\n",
    "        print(f\"ROC-AUC Score: {auc_roc:.4f}\")\n",
    "\n",
    "        if f1 > 0.5:\n",
    "            print(\"Kesimpulan: Model memiliki kinerja yang baik dalam memprediksi kelas minoritas.\")\n",
    "        else:\n",
    "            print(\"Kesimpulan: Model perlu diperbaiki untuk meningkatkan prediksi kelas minoritas.\")\n",
    "\n",
    "        if auc_roc > 0.8:\n",
    "            print(\"Rekomendasi: Model dapat digunakan dengan percaya diri untuk tugas prediksi.\")\n",
    "        else:\n",
    "            print(\"Rekomendasi: Model memerlukan peningkatan untuk meningkatkan akurasi prediksi.\")\n"
   ]
  },
  {
   "cell_type": "code",
   "execution_count": 58,
   "metadata": {},
   "outputs": [],
   "source": [
    "# List model yang dievaluasi\n",
    "evaluated_models = [logreg_model, logreg_model_upsampled, logreg_model_downsampled,\n",
    "                    dt_model_best, rf_model_best]"
   ]
  },
  {
   "cell_type": "code",
   "execution_count": 59,
   "metadata": {},
   "outputs": [
    {
     "name": "stdout",
     "output_type": "stream",
     "text": [
      "\n",
      "Model: LogisticRegression\n",
      "F1 Score: 0.3363\n",
      "ROC-AUC Score: 0.7831\n",
      "Kesimpulan: Model perlu diperbaiki untuk meningkatkan prediksi kelas minoritas.\n",
      "Rekomendasi: Model memerlukan peningkatan untuk meningkatkan akurasi prediksi.\n",
      "\n",
      "Model: LogisticRegression\n",
      "F1 Score: 0.5097\n",
      "ROC-AUC Score: 0.7868\n",
      "Kesimpulan: Model memiliki kinerja yang baik dalam memprediksi kelas minoritas.\n",
      "Rekomendasi: Model memerlukan peningkatan untuk meningkatkan akurasi prediksi.\n",
      "\n",
      "Model: LogisticRegression\n",
      "F1 Score: 0.5034\n",
      "ROC-AUC Score: 0.7875\n",
      "Kesimpulan: Model memiliki kinerja yang baik dalam memprediksi kelas minoritas.\n",
      "Rekomendasi: Model memerlukan peningkatan untuk meningkatkan akurasi prediksi.\n",
      "\n",
      "Model: DecisionTreeClassifier\n",
      "F1 Score: 0.5917\n",
      "ROC-AUC Score: 0.8481\n",
      "Kesimpulan: Model memiliki kinerja yang baik dalam memprediksi kelas minoritas.\n",
      "Rekomendasi: Model dapat digunakan dengan percaya diri untuk tugas prediksi.\n",
      "\n",
      "Model: RandomForestClassifier\n",
      "F1 Score: 0.5640\n",
      "ROC-AUC Score: 0.8608\n",
      "Kesimpulan: Model memiliki kinerja yang baik dalam memprediksi kelas minoritas.\n",
      "Rekomendasi: Model dapat digunakan dengan percaya diri untuk tugas prediksi.\n"
     ]
    }
   ],
   "source": [
    "# Panggil fungsi kesimpulan dan rekomendasi\n",
    "conclusion_recommendation(evaluated_models)"
   ]
  },
  {
   "cell_type": "markdown",
   "metadata": {},
   "source": [
    "**Kesimpulan Langkah 4:**\n",
    "- Model Decision Tree dan Random Forest dengan parameter terbaik memberikan kinerja yang lebih baik dalam mengidentifikasi nasabah yang berhenti dibandingkan dengan Logistic Regression.\n",
    "\n",
    "- Penanganan ketidakseimbangan kelas dan pengoptimalkan parameter model dapat meningkatkan kinerja model dalam memprediksi apakah seorang nasabah akan segera meninggalkan bank atau tidak."
   ]
  },
  {
   "cell_type": "markdown",
   "metadata": {},
   "source": [
    "## Kesimpulan Umum"
   ]
  },
  {
   "cell_type": "markdown",
   "metadata": {},
   "source": [
    "**Kesimpulan Langkah 1:**\n",
    "- Terdapat missing data pada kolom 'Tenure'\n",
    "\n",
    "- Misiing data sudah diisi dengan nilai median dengan sebelumnya menganalisa data deskriptif, korelasi data Tenure dengan yang lain, serta visualisasi distribusi 'Tenure'.\n",
    "\n",
    "\n",
    "**Kesimpulan Langkah 2:**\n",
    "- Logistic Regression \n",
    "\n",
    "  F1-score untuk kelas 0 (Label 0): 0.89\n",
    "  \n",
    "  F1-score untuk kelas 1 (Label 1): 0.34\n",
    "  \n",
    "\n",
    "- Decision Tree\n",
    "\n",
    "  F1-score untuk kelas 0 (Label 0): 0.87\n",
    "\n",
    "  F1-score untuk kelas 1 (Label 1): 0.52\n",
    "  \n",
    "\n",
    "- Random Forest\n",
    "\n",
    "  F1-score untuk kelas 0 (Label 0): 0.91\n",
    " \n",
    "  F1-score untuk kelas 1 (Label 1): 0.57\n",
    "\n",
    "\n",
    "**Kesimpulan Langkah 3 :**\n",
    "\n",
    "Mengatasi ketidakseimbangan kelas dengan menggunakan teknik Upsampling dan Downsampling serta mengoptimalkan parameter model menggunakan GridSearchCV. Hal ini dilakukan untuk meningkatkan kinerja model dalam menangani data yang tidak seimbang.\n",
    "\n",
    "\n",
    "**Kesimpulan Langkah 4:**\n",
    "- Model Decision Tree dan Random Forest dengan parameter terbaik memberikan kinerja yang lebih baik dalam mengidentifikasi nasabah yang berhenti dibandingkan dengan Logistic Regression.\n",
    "\n",
    "- Penanganan ketidakseimbangan kelas dan pengoptimalkan parameter model dapat meningkatkan kinerja model dalam memprediksi apakah seorang nasabah akan segera meninggalkan bank atau tidak."
   ]
  }
 ],
 "metadata": {
  "kernelspec": {
   "display_name": "Python 3 (ipykernel)",
   "language": "python",
   "name": "python3"
  },
  "language_info": {
   "codemirror_mode": {
    "name": "ipython",
    "version": 3
   },
   "file_extension": ".py",
   "mimetype": "text/x-python",
   "name": "python",
   "nbconvert_exporter": "python",
   "pygments_lexer": "ipython3",
   "version": "3.11.7"
  },
  "toc": {
   "base_numbering": 1,
   "nav_menu": {},
   "number_sections": true,
   "sideBar": true,
   "skip_h1_title": true,
   "title_cell": "Table of Contents",
   "title_sidebar": "Contents",
   "toc_cell": false,
   "toc_position": {
    "height": "calc(100% - 180px)",
    "left": "10px",
    "top": "150px",
    "width": "165px"
   },
   "toc_section_display": true,
   "toc_window_display": false
  }
 },
 "nbformat": 4,
 "nbformat_minor": 2
}
